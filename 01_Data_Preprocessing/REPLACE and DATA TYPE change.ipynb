{
 "cells": [
  {
   "cell_type": "code",
   "execution_count": 1,
   "id": "7490e6a9-47b1-4a20-8477-c06cabebba45",
   "metadata": {},
   "outputs": [],
   "source": [
    "import pandas as pd"
   ]
  },
  {
   "cell_type": "code",
   "execution_count": 3,
   "id": "c4fc91fc-fbc7-4fa4-a3d8-fea789b009b2",
   "metadata": {},
   "outputs": [
    {
     "data": {
      "text/html": [
       "<div>\n",
       "<style scoped>\n",
       "    .dataframe tbody tr th:only-of-type {\n",
       "        vertical-align: middle;\n",
       "    }\n",
       "\n",
       "    .dataframe tbody tr th {\n",
       "        vertical-align: top;\n",
       "    }\n",
       "\n",
       "    .dataframe thead th {\n",
       "        text-align: right;\n",
       "    }\n",
       "</style>\n",
       "<table border=\"1\" class=\"dataframe\">\n",
       "  <thead>\n",
       "    <tr style=\"text-align: right;\">\n",
       "      <th></th>\n",
       "      <th>Gender</th>\n",
       "      <th>Married</th>\n",
       "      <th>Dependents</th>\n",
       "      <th>Education</th>\n",
       "      <th>Self_Employed</th>\n",
       "      <th>Applicant_Income</th>\n",
       "      <th>Coapplicant_Income</th>\n",
       "      <th>Loan_Amount</th>\n",
       "      <th>Term</th>\n",
       "      <th>Credit_History</th>\n",
       "      <th>Area</th>\n",
       "    </tr>\n",
       "  </thead>\n",
       "  <tbody>\n",
       "    <tr>\n",
       "      <th>0</th>\n",
       "      <td>Male</td>\n",
       "      <td>Yes</td>\n",
       "      <td>0</td>\n",
       "      <td>Graduate</td>\n",
       "      <td>No</td>\n",
       "      <td>572000</td>\n",
       "      <td>0</td>\n",
       "      <td>11000000</td>\n",
       "      <td>360.0</td>\n",
       "      <td>1.0</td>\n",
       "      <td>Urban</td>\n",
       "    </tr>\n",
       "    <tr>\n",
       "      <th>1</th>\n",
       "      <td>Male</td>\n",
       "      <td>Yes</td>\n",
       "      <td>1</td>\n",
       "      <td>Graduate</td>\n",
       "      <td>No</td>\n",
       "      <td>307600</td>\n",
       "      <td>150000</td>\n",
       "      <td>12600000</td>\n",
       "      <td>360.0</td>\n",
       "      <td>1.0</td>\n",
       "      <td>Urban</td>\n",
       "    </tr>\n",
       "    <tr>\n",
       "      <th>2</th>\n",
       "      <td>Male</td>\n",
       "      <td>Yes</td>\n",
       "      <td>2</td>\n",
       "      <td>Graduate</td>\n",
       "      <td>No</td>\n",
       "      <td>500000</td>\n",
       "      <td>180000</td>\n",
       "      <td>20800000</td>\n",
       "      <td>360.0</td>\n",
       "      <td>1.0</td>\n",
       "      <td>Urban</td>\n",
       "    </tr>\n",
       "    <tr>\n",
       "      <th>3</th>\n",
       "      <td>Male</td>\n",
       "      <td>Yes</td>\n",
       "      <td>2</td>\n",
       "      <td>Graduate</td>\n",
       "      <td>No</td>\n",
       "      <td>234000</td>\n",
       "      <td>254600</td>\n",
       "      <td>10000000</td>\n",
       "      <td>360.0</td>\n",
       "      <td>NaN</td>\n",
       "      <td>Urban</td>\n",
       "    </tr>\n",
       "    <tr>\n",
       "      <th>4</th>\n",
       "      <td>Male</td>\n",
       "      <td>No</td>\n",
       "      <td>0</td>\n",
       "      <td>Not Graduate</td>\n",
       "      <td>No</td>\n",
       "      <td>327600</td>\n",
       "      <td>0</td>\n",
       "      <td>7800000</td>\n",
       "      <td>360.0</td>\n",
       "      <td>1.0</td>\n",
       "      <td>Urban</td>\n",
       "    </tr>\n",
       "  </tbody>\n",
       "</table>\n",
       "</div>"
      ],
      "text/plain": [
       "  Gender Married Dependents     Education Self_Employed  Applicant_Income  \\\n",
       "0   Male     Yes          0      Graduate            No            572000   \n",
       "1   Male     Yes          1      Graduate            No            307600   \n",
       "2   Male     Yes          2      Graduate            No            500000   \n",
       "3   Male     Yes          2      Graduate            No            234000   \n",
       "4   Male      No          0  Not Graduate            No            327600   \n",
       "\n",
       "   Coapplicant_Income  Loan_Amount   Term  Credit_History   Area  \n",
       "0                   0     11000000  360.0             1.0  Urban  \n",
       "1              150000     12600000  360.0             1.0  Urban  \n",
       "2              180000     20800000  360.0             1.0  Urban  \n",
       "3              254600     10000000  360.0             NaN  Urban  \n",
       "4                   0      7800000  360.0             1.0  Urban  "
      ]
     },
     "execution_count": 3,
     "metadata": {},
     "output_type": "execute_result"
    }
   ],
   "source": [
    "dataset = pd.read_csv('loan_test.csv')\n",
    "dataset.head(5)"
   ]
  },
  {
   "cell_type": "code",
   "execution_count": 4,
   "id": "6b38038f-dc8b-44b5-804d-ab9fb0dd3872",
   "metadata": {},
   "outputs": [
    {
     "name": "stdout",
     "output_type": "stream",
     "text": [
      "<class 'pandas.core.frame.DataFrame'>\n",
      "RangeIndex: 367 entries, 0 to 366\n",
      "Data columns (total 11 columns):\n",
      " #   Column              Non-Null Count  Dtype  \n",
      "---  ------              --------------  -----  \n",
      " 0   Gender              356 non-null    object \n",
      " 1   Married             367 non-null    object \n",
      " 2   Dependents          357 non-null    object \n",
      " 3   Education           367 non-null    object \n",
      " 4   Self_Employed       344 non-null    object \n",
      " 5   Applicant_Income    367 non-null    int64  \n",
      " 6   Coapplicant_Income  367 non-null    int64  \n",
      " 7   Loan_Amount         367 non-null    int64  \n",
      " 8   Term                361 non-null    float64\n",
      " 9   Credit_History      338 non-null    float64\n",
      " 10  Area                367 non-null    object \n",
      "dtypes: float64(2), int64(3), object(6)\n",
      "memory usage: 31.7+ KB\n"
     ]
    }
   ],
   "source": [
    "dataset.info()"
   ]
  },
  {
   "cell_type": "code",
   "execution_count": 5,
   "id": "07ee071a-d3df-4c40-b2fa-cb92b9022e6f",
   "metadata": {},
   "outputs": [
    {
     "data": {
      "text/plain": [
       "Gender                11\n",
       "Married                0\n",
       "Dependents            10\n",
       "Education              0\n",
       "Self_Employed         23\n",
       "Applicant_Income       0\n",
       "Coapplicant_Income     0\n",
       "Loan_Amount            0\n",
       "Term                   6\n",
       "Credit_History        29\n",
       "Area                   0\n",
       "dtype: int64"
      ]
     },
     "execution_count": 5,
     "metadata": {},
     "output_type": "execute_result"
    }
   ],
   "source": [
    "dataset.isnull().sum()"
   ]
  },
  {
   "cell_type": "code",
   "execution_count": 6,
   "id": "35ead840-13a8-4e24-aba2-20264751b4b5",
   "metadata": {},
   "outputs": [
    {
     "data": {
      "text/plain": [
       "Dependents\n",
       "0     200\n",
       "2      59\n",
       "1      58\n",
       "3+     40\n",
       "Name: count, dtype: int64"
      ]
     },
     "execution_count": 6,
     "metadata": {},
     "output_type": "execute_result"
    }
   ],
   "source": [
    "dataset['Dependents'].value_counts()"
   ]
  },
  {
   "cell_type": "code",
   "execution_count": 7,
   "id": "64a925c8-3185-4fb8-8714-bc70cb6daeaa",
   "metadata": {},
   "outputs": [
    {
     "name": "stderr",
     "output_type": "stream",
     "text": [
      "C:\\Users\\asmas\\AppData\\Local\\Temp\\ipykernel_19328\\983758821.py:2: FutureWarning: A value is trying to be set on a copy of a DataFrame or Series through chained assignment using an inplace method.\n",
      "The behavior will change in pandas 3.0. This inplace method will never work because the intermediate object on which we are setting values always behaves as a copy.\n",
      "\n",
      "For example, when doing 'df[col].method(value, inplace=True)', try using 'df.method({col: value}, inplace=True)' or df[col] = df[col].method(value) instead, to perform the operation inplace on the original object.\n",
      "\n",
      "\n",
      "  dataset['Dependents'].fillna(dataset['Dependents'].mode()[0], inplace=True)\n"
     ]
    }
   ],
   "source": [
    "# filling null values with mode\n",
    "dataset['Dependents'].fillna(dataset['Dependents'].mode()[0], inplace=True)"
   ]
  },
  {
   "cell_type": "code",
   "execution_count": 8,
   "id": "26713ff6-7aef-445b-a2d9-e1044b82ead2",
   "metadata": {},
   "outputs": [
    {
     "data": {
      "text/plain": [
       "Gender                11\n",
       "Married                0\n",
       "Dependents             0\n",
       "Education              0\n",
       "Self_Employed         23\n",
       "Applicant_Income       0\n",
       "Coapplicant_Income     0\n",
       "Loan_Amount            0\n",
       "Term                   6\n",
       "Credit_History        29\n",
       "Area                   0\n",
       "dtype: int64"
      ]
     },
     "execution_count": 8,
     "metadata": {},
     "output_type": "execute_result"
    }
   ],
   "source": [
    "# check\n",
    "dataset.isnull().sum()"
   ]
  },
  {
   "cell_type": "code",
   "execution_count": 9,
   "id": "d05a5888-990c-493f-9672-bf4a2118d0b5",
   "metadata": {},
   "outputs": [],
   "source": [
    "# now we have to replace 3+ to , we oberved the index no. is 0,1,2,3+so we can change this 3+ into 3 to get better result\n",
    "dataset['Dependents'].replace('3+','3', inplace =True)"
   ]
  },
  {
   "cell_type": "code",
   "execution_count": 10,
   "id": "92229d86-d6d2-4328-ae55-f04f9da95c95",
   "metadata": {},
   "outputs": [
    {
     "data": {
      "text/plain": [
       "Dependents\n",
       "0    210\n",
       "2     59\n",
       "1     58\n",
       "3     40\n",
       "Name: count, dtype: int64"
      ]
     },
     "execution_count": 10,
     "metadata": {},
     "output_type": "execute_result"
    }
   ],
   "source": [
    "# check\n",
    "dataset['Dependents'].value_counts()"
   ]
  },
  {
   "cell_type": "code",
   "execution_count": 11,
   "id": "05db8348-f0fd-4d10-9fac-b125dbdb11db",
   "metadata": {},
   "outputs": [],
   "source": [
    "# 3+ get change into 3 in obejct datatype"
   ]
  },
  {
   "cell_type": "code",
   "execution_count": 12,
   "id": "1106a502-2e56-44b2-ae32-7fa356964040",
   "metadata": {},
   "outputs": [
    {
     "name": "stdout",
     "output_type": "stream",
     "text": [
      "<class 'pandas.core.frame.DataFrame'>\n",
      "RangeIndex: 367 entries, 0 to 366\n",
      "Data columns (total 11 columns):\n",
      " #   Column              Non-Null Count  Dtype  \n",
      "---  ------              --------------  -----  \n",
      " 0   Gender              356 non-null    object \n",
      " 1   Married             367 non-null    object \n",
      " 2   Dependents          367 non-null    object \n",
      " 3   Education           367 non-null    object \n",
      " 4   Self_Employed       344 non-null    object \n",
      " 5   Applicant_Income    367 non-null    int64  \n",
      " 6   Coapplicant_Income  367 non-null    int64  \n",
      " 7   Loan_Amount         367 non-null    int64  \n",
      " 8   Term                361 non-null    float64\n",
      " 9   Credit_History      338 non-null    float64\n",
      " 10  Area                367 non-null    object \n",
      "dtypes: float64(2), int64(3), object(6)\n",
      "memory usage: 31.7+ KB\n"
     ]
    }
   ],
   "source": [
    "# datatype is still same that is object datatype\n",
    "dataset.info()"
   ]
  },
  {
   "cell_type": "markdown",
   "id": "e0c7551e-3e4b-4233-b3ac-9e5b92f3768b",
   "metadata": {},
   "source": [
    "#### Changing datatype"
   ]
  },
  {
   "cell_type": "code",
   "execution_count": 13,
   "id": "ccf46754-ce20-46eb-b7f0-96e7b8cef429",
   "metadata": {},
   "outputs": [
    {
     "data": {
      "text/plain": [
       "0      0\n",
       "1      1\n",
       "2      2\n",
       "3      2\n",
       "4      0\n",
       "      ..\n",
       "362    3\n",
       "363    0\n",
       "364    0\n",
       "365    0\n",
       "366    0\n",
       "Name: Dependents, Length: 367, dtype: int64"
      ]
     },
     "execution_count": 13,
     "metadata": {},
     "output_type": "execute_result"
    }
   ],
   "source": [
    "# convert this object datatype into integer datatype or floating datatype.\n",
    "dataset['Dependents'].astype('int64')"
   ]
  },
  {
   "cell_type": "code",
   "execution_count": 14,
   "id": "3af2ad7f-09f7-421a-9f78-da6783d8ed39",
   "metadata": {},
   "outputs": [],
   "source": [
    "# replace with their original position\n",
    "dataset['Dependents'] = dataset['Dependents'].astype('int64')"
   ]
  },
  {
   "cell_type": "code",
   "execution_count": 15,
   "id": "9bf0db7c-948a-428d-8835-215638c842d3",
   "metadata": {},
   "outputs": [
    {
     "name": "stdout",
     "output_type": "stream",
     "text": [
      "<class 'pandas.core.frame.DataFrame'>\n",
      "RangeIndex: 367 entries, 0 to 366\n",
      "Data columns (total 11 columns):\n",
      " #   Column              Non-Null Count  Dtype  \n",
      "---  ------              --------------  -----  \n",
      " 0   Gender              356 non-null    object \n",
      " 1   Married             367 non-null    object \n",
      " 2   Dependents          367 non-null    int64  \n",
      " 3   Education           367 non-null    object \n",
      " 4   Self_Employed       344 non-null    object \n",
      " 5   Applicant_Income    367 non-null    int64  \n",
      " 6   Coapplicant_Income  367 non-null    int64  \n",
      " 7   Loan_Amount         367 non-null    int64  \n",
      " 8   Term                361 non-null    float64\n",
      " 9   Credit_History      338 non-null    float64\n",
      " 10  Area                367 non-null    object \n",
      "dtypes: float64(2), int64(4), object(5)\n",
      "memory usage: 31.7+ KB\n"
     ]
    }
   ],
   "source": [
    "# check\n",
    "dataset.info()"
   ]
  },
  {
   "cell_type": "markdown",
   "id": "660ec9e8-9eb3-45cd-8786-5af4caaa9710",
   "metadata": {},
   "source": [
    "#### Dependents datatype get changed to = int64 (integer datatype)"
   ]
  },
  {
   "cell_type": "code",
   "execution_count": null,
   "id": "c4e3a59e-6cf8-4a1e-95aa-9284b98d85ea",
   "metadata": {},
   "outputs": [],
   "source": []
  }
 ],
 "metadata": {
  "kernelspec": {
   "display_name": "Python 3 (ipykernel)",
   "language": "python",
   "name": "python3"
  },
  "language_info": {
   "codemirror_mode": {
    "name": "ipython",
    "version": 3
   },
   "file_extension": ".py",
   "mimetype": "text/x-python",
   "name": "python",
   "nbconvert_exporter": "python",
   "pygments_lexer": "ipython3",
   "version": "3.12.5"
  }
 },
 "nbformat": 4,
 "nbformat_minor": 5
}
